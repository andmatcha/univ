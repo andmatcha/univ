{
 "cells": [
  {
   "cell_type": "markdown",
   "id": "7de8ca51",
   "metadata": {},
   "source": [
    "# コンピュータシミュレーション同実習\n",
    "\n",
    "第1回 2025年4月11日\n",
    "\n",
    "学籍番号62100186 E科　青柳仁\n",
    "\n",
    "## 1. 課題\n",
    "\n",
    "Notebook上で何らかの\n",
    "- 四則演算(4種)\n",
    "- If分岐+print文\n",
    "  - 例：変数aが10以上か判定し、結果をprint \n",
    "- Forループ+print文\n",
    "  - 例：変数aにfor loopを用いて10回1を加算を実行。\n",
    "\n",
    "\n",
    "## 2. コードと実行結果\n",
    "\n",
    "### 四則演算"
   ]
  },
  {
   "cell_type": "code",
   "execution_count": 4,
   "id": "d509eea2",
   "metadata": {},
   "outputs": [
    {
     "data": {
      "text/plain": [
       "2040"
      ]
     },
     "execution_count": 4,
     "metadata": {},
     "output_type": "execute_result"
    }
   ],
   "source": [
    "2025 + 4 + 11"
   ]
  },
  {
   "cell_type": "code",
   "execution_count": 6,
   "id": "c81cac2e",
   "metadata": {},
   "outputs": [
    {
     "data": {
      "text/plain": [
       "23"
      ]
     },
     "execution_count": 6,
     "metadata": {},
     "output_type": "execute_result"
    }
   ],
   "source": [
    "2025 - 2002"
   ]
  },
  {
   "cell_type": "code",
   "execution_count": 7,
   "id": "f5d2b4e2",
   "metadata": {},
   "outputs": [
    {
     "data": {
      "text/plain": [
       "374"
      ]
     },
     "execution_count": 7,
     "metadata": {},
     "output_type": "execute_result"
    }
   ],
   "source": [
    "11 * 34"
   ]
  },
  {
   "cell_type": "code",
   "execution_count": 8,
   "id": "e7969c55",
   "metadata": {},
   "outputs": [
    {
     "data": {
      "text/plain": [
       "2133.3333333333335"
      ]
     },
     "execution_count": 8,
     "metadata": {},
     "output_type": "execute_result"
    }
   ],
   "source": [
    "64000 / 30"
   ]
  },
  {
   "cell_type": "markdown",
   "id": "08b18aac",
   "metadata": {},
   "source": [
    "### If文分岐＋print文"
   ]
  },
  {
   "cell_type": "code",
   "execution_count": 10,
   "id": "c0223686",
   "metadata": {},
   "outputs": [
    {
     "name": "stdout",
     "output_type": "stream",
     "text": [
      "98は7の倍数です\n"
     ]
    }
   ],
   "source": [
    "a = 98\n",
    "\n",
    "if (a % 7 == 0):\n",
    "  print(f\"{a}は7の倍数です\")\n",
    "else:\n",
    "  print(f\"{a}は7の倍数ではありません\")"
   ]
  },
  {
   "cell_type": "markdown",
   "id": "f8b2c528",
   "metadata": {},
   "source": [
    "### Forループ＋print文"
   ]
  },
  {
   "cell_type": "code",
   "execution_count": null,
   "id": "21c90945",
   "metadata": {},
   "outputs": [
    {
     "name": "stdout",
     "output_type": "stream",
     "text": [
      "appleは299円です\n",
      "orangeは199円です\n",
      "bananaは99円です\n"
     ]
    }
   ],
   "source": [
    "fruits = [\n",
    "  {\"name\": \"apple\", \"price\": 299},\n",
    "  {\"name\": \"orange\", \"price\": 199},\n",
    "  {\"name\": \"banana\", \"price\": 99}\n",
    "]\n",
    "\n",
    "for fruit in fruits:\n",
    "  name = fruit[\"name\"]\n",
    "  price = fruit[\"price\"]\n",
    "  print(f\"{name}は{price}円です\")"
   ]
  },
  {
   "cell_type": "markdown",
   "id": "b625b348",
   "metadata": {},
   "source": [
    "## 3. 考察\n",
    "Jupyter Notebookでレポートの体裁を作成する方法がわかった。Notebookのコードブロック内ではフォーマッタが効かないので、pythonファイルを別に作ってそこでコーディングしてから貼り付けたほうが効率良くレポート作成できると考えた。"
   ]
  }
 ],
 "metadata": {
  "kernelspec": {
   "display_name": "base",
   "language": "python",
   "name": "python3"
  },
  "language_info": {
   "codemirror_mode": {
    "name": "ipython",
    "version": 3
   },
   "file_extension": ".py",
   "mimetype": "text/x-python",
   "name": "python",
   "nbconvert_exporter": "python",
   "pygments_lexer": "ipython3",
   "version": "3.9.12"
  }
 },
 "nbformat": 4,
 "nbformat_minor": 5
}
